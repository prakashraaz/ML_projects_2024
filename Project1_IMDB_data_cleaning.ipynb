{
 "cells": [
  {
   "cell_type": "code",
   "execution_count": 3,
   "id": "aacae384",
   "metadata": {},
   "outputs": [],
   "source": [
    "#! conda create -n py_econ\n",
    "#! conda activate py_econ\n",
    "#! pip install beautifulsoup4 selenium kaggle\n"
   ]
  },
  {
   "cell_type": "code",
   "execution_count": 4,
   "id": "efb8d91a",
   "metadata": {},
   "outputs": [],
   "source": [
    "# ! kaggle datasets download -d lakshmi25npathi/imdb-dataset-of-50k-movie-reviews"
   ]
  },
  {
   "cell_type": "code",
   "execution_count": 5,
   "id": "6da33e4e-7b10-4e21-b534-68371c7b8d77",
   "metadata": {},
   "outputs": [],
   "source": [
    "import pandas as pd\n",
    "import numpy as np\n",
    "import seaborn as sns\n",
    "import matplotlib.pyplot as plt"
   ]
  },
  {
   "cell_type": "code",
   "execution_count": 9,
   "id": "6af3c940-f093-4186-bcd1-428338d23607",
   "metadata": {},
   "outputs": [],
   "source": [
    "imdb = pd.read_csv(\"../IMDB Dataset.csv\")"
   ]
  },
  {
   "cell_type": "code",
   "execution_count": 10,
   "id": "b752e1ba-6173-4c4b-bb28-6c562c2dfe24",
   "metadata": {},
   "outputs": [
    {
     "data": {
      "text/html": [
       "<div>\n",
       "<style scoped>\n",
       "    .dataframe tbody tr th:only-of-type {\n",
       "        vertical-align: middle;\n",
       "    }\n",
       "\n",
       "    .dataframe tbody tr th {\n",
       "        vertical-align: top;\n",
       "    }\n",
       "\n",
       "    .dataframe thead th {\n",
       "        text-align: right;\n",
       "    }\n",
       "</style>\n",
       "<table border=\"1\" class=\"dataframe\">\n",
       "  <thead>\n",
       "    <tr style=\"text-align: right;\">\n",
       "      <th></th>\n",
       "      <th>review</th>\n",
       "      <th>sentiment</th>\n",
       "    </tr>\n",
       "  </thead>\n",
       "  <tbody>\n",
       "    <tr>\n",
       "      <th>0</th>\n",
       "      <td>One of the other reviewers has mentioned that ...</td>\n",
       "      <td>positive</td>\n",
       "    </tr>\n",
       "    <tr>\n",
       "      <th>1</th>\n",
       "      <td>A wonderful little production. &lt;br /&gt;&lt;br /&gt;The...</td>\n",
       "      <td>positive</td>\n",
       "    </tr>\n",
       "    <tr>\n",
       "      <th>2</th>\n",
       "      <td>I thought this was a wonderful way to spend ti...</td>\n",
       "      <td>positive</td>\n",
       "    </tr>\n",
       "    <tr>\n",
       "      <th>3</th>\n",
       "      <td>Basically there's a family where a little boy ...</td>\n",
       "      <td>negative</td>\n",
       "    </tr>\n",
       "    <tr>\n",
       "      <th>4</th>\n",
       "      <td>Petter Mattei's \"Love in the Time of Money\" is...</td>\n",
       "      <td>positive</td>\n",
       "    </tr>\n",
       "  </tbody>\n",
       "</table>\n",
       "</div>"
      ],
      "text/plain": [
       "                                              review sentiment\n",
       "0  One of the other reviewers has mentioned that ...  positive\n",
       "1  A wonderful little production. <br /><br />The...  positive\n",
       "2  I thought this was a wonderful way to spend ti...  positive\n",
       "3  Basically there's a family where a little boy ...  negative\n",
       "4  Petter Mattei's \"Love in the Time of Money\" is...  positive"
      ]
     },
     "execution_count": 10,
     "metadata": {},
     "output_type": "execute_result"
    }
   ],
   "source": [
    "imdb.head()"
   ]
  },
  {
   "cell_type": "code",
   "execution_count": 11,
   "id": "3c095196-341b-4c45-85c9-aa58c62601a0",
   "metadata": {},
   "outputs": [
    {
     "data": {
      "text/plain": [
       "<bound method DataFrame.info of                                                   review sentiment\n",
       "0      One of the other reviewers has mentioned that ...  positive\n",
       "1      A wonderful little production. <br /><br />The...  positive\n",
       "2      I thought this was a wonderful way to spend ti...  positive\n",
       "3      Basically there's a family where a little boy ...  negative\n",
       "4      Petter Mattei's \"Love in the Time of Money\" is...  positive\n",
       "...                                                  ...       ...\n",
       "49995  I thought this movie did a down right good job...  positive\n",
       "49996  Bad plot, bad dialogue, bad acting, idiotic di...  negative\n",
       "49997  I am a Catholic taught in parochial elementary...  negative\n",
       "49998  I'm going to have to disagree with the previou...  negative\n",
       "49999  No one expects the Star Trek movies to be high...  negative\n",
       "\n",
       "[50000 rows x 2 columns]>"
      ]
     },
     "execution_count": 11,
     "metadata": {},
     "output_type": "execute_result"
    }
   ],
   "source": [
    "imdb.info"
   ]
  },
  {
   "cell_type": "code",
   "execution_count": 13,
   "id": "715e04a3-47e0-46f6-8e5c-95d503ebc274",
   "metadata": {},
   "outputs": [
    {
     "data": {
      "text/plain": [
       "sentiment\n",
       "positive    25000\n",
       "negative    25000\n",
       "Name: count, dtype: int64"
      ]
     },
     "execution_count": 13,
     "metadata": {},
     "output_type": "execute_result"
    }
   ],
   "source": [
    "imdb['sentiment'].value_counts()"
   ]
  },
  {
   "cell_type": "code",
   "execution_count": 14,
   "id": "26a737bd-ef9e-47bb-ac43-2f41b75b86b0",
   "metadata": {},
   "outputs": [
    {
     "data": {
      "text/plain": [
       "count    50000.000000\n",
       "mean      1309.431020\n",
       "std        989.728014\n",
       "min         32.000000\n",
       "25%        699.000000\n",
       "50%        970.000000\n",
       "75%       1590.250000\n",
       "max      13704.000000\n",
       "Name: review_length, dtype: float64"
      ]
     },
     "execution_count": 14,
     "metadata": {},
     "output_type": "execute_result"
    }
   ],
   "source": [
    "imdb['review_length'] = imdb['review'].apply(len)\n",
    "imdb['review_length'].describe()"
   ]
  },
  {
   "cell_type": "code",
   "execution_count": 15,
   "id": "5a43f3d8-e654-4467-8854-5070e074451d",
   "metadata": {},
   "outputs": [
    {
     "data": {
      "text/html": [
       "<div>\n",
       "<style scoped>\n",
       "    .dataframe tbody tr th:only-of-type {\n",
       "        vertical-align: middle;\n",
       "    }\n",
       "\n",
       "    .dataframe tbody tr th {\n",
       "        vertical-align: top;\n",
       "    }\n",
       "\n",
       "    .dataframe thead th {\n",
       "        text-align: right;\n",
       "    }\n",
       "</style>\n",
       "<table border=\"1\" class=\"dataframe\">\n",
       "  <thead>\n",
       "    <tr style=\"text-align: right;\">\n",
       "      <th></th>\n",
       "      <th>review</th>\n",
       "      <th>sentiment</th>\n",
       "      <th>review_length</th>\n",
       "    </tr>\n",
       "  </thead>\n",
       "  <tbody>\n",
       "    <tr>\n",
       "      <th>0</th>\n",
       "      <td>One of the other reviewers has mentioned that ...</td>\n",
       "      <td>positive</td>\n",
       "      <td>1761</td>\n",
       "    </tr>\n",
       "    <tr>\n",
       "      <th>1</th>\n",
       "      <td>A wonderful little production. &lt;br /&gt;&lt;br /&gt;The...</td>\n",
       "      <td>positive</td>\n",
       "      <td>998</td>\n",
       "    </tr>\n",
       "    <tr>\n",
       "      <th>2</th>\n",
       "      <td>I thought this was a wonderful way to spend ti...</td>\n",
       "      <td>positive</td>\n",
       "      <td>926</td>\n",
       "    </tr>\n",
       "    <tr>\n",
       "      <th>3</th>\n",
       "      <td>Basically there's a family where a little boy ...</td>\n",
       "      <td>negative</td>\n",
       "      <td>748</td>\n",
       "    </tr>\n",
       "    <tr>\n",
       "      <th>4</th>\n",
       "      <td>Petter Mattei's \"Love in the Time of Money\" is...</td>\n",
       "      <td>positive</td>\n",
       "      <td>1317</td>\n",
       "    </tr>\n",
       "  </tbody>\n",
       "</table>\n",
       "</div>"
      ],
      "text/plain": [
       "                                              review sentiment  review_length\n",
       "0  One of the other reviewers has mentioned that ...  positive           1761\n",
       "1  A wonderful little production. <br /><br />The...  positive            998\n",
       "2  I thought this was a wonderful way to spend ti...  positive            926\n",
       "3  Basically there's a family where a little boy ...  negative            748\n",
       "4  Petter Mattei's \"Love in the Time of Money\" is...  positive           1317"
      ]
     },
     "execution_count": 15,
     "metadata": {},
     "output_type": "execute_result"
    }
   ],
   "source": [
    "imdb.head()"
   ]
  },
  {
   "cell_type": "code",
   "execution_count": 16,
   "id": "876f73f8-0f8c-49b4-be1d-edbe4985eb40",
   "metadata": {},
   "outputs": [
    {
     "name": "stdout",
     "output_type": "stream",
     "text": [
      "Index(['review', 'sentiment', 'review_length'], dtype='object')\n"
     ]
    }
   ],
   "source": [
    "\n",
    "print(imdb.columns)\n",
    "\n",
    "imdb = imdb[['review', 'sentiment']]\n"
   ]
  },
  {
   "cell_type": "markdown",
   "id": "77e1af43-f429-4c66-99c3-43331fc016d6",
   "metadata": {},
   "source": [
    "## Handling missing values\n"
   ]
  },
  {
   "cell_type": "code",
   "execution_count": 17,
   "id": "6b7b0233-dd40-4e7f-b431-9c50afbbfb59",
   "metadata": {},
   "outputs": [
    {
     "name": "stdout",
     "output_type": "stream",
     "text": [
      "review       0\n",
      "sentiment    0\n",
      "dtype: int64\n"
     ]
    }
   ],
   "source": [
    "# Check for any missing values\n",
    "missing_values = imdb.isnull().sum()\n",
    "print(missing_values)"
   ]
  },
  {
   "cell_type": "code",
   "execution_count": 18,
   "id": "6ee32ed6-dbe0-45df-9a06-86e672a87ce7",
   "metadata": {},
   "outputs": [],
   "source": [
    "imdb = imdb.dropna()"
   ]
  },
  {
   "cell_type": "code",
   "execution_count": 19,
   "id": "8ac53e6f-168c-41d5-9e2b-526786fe7d18",
   "metadata": {},
   "outputs": [
    {
     "name": "stdout",
     "output_type": "stream",
     "text": [
      "<class 'pandas.core.frame.DataFrame'>\n",
      "RangeIndex: 50000 entries, 0 to 49999\n",
      "Data columns (total 2 columns):\n",
      " #   Column     Non-Null Count  Dtype \n",
      "---  ------     --------------  ----- \n",
      " 0   review     50000 non-null  object\n",
      " 1   sentiment  50000 non-null  object\n",
      "dtypes: object(2)\n",
      "memory usage: 781.4+ KB\n",
      "None\n",
      "Dataset now has 50000 rows and 2 columns.\n"
     ]
    }
   ],
   "source": [
    "print(imdb.info())\n",
    "print(f\"Dataset now has {imdb.shape[0]} rows and {imdb.shape[1]} columns.\")"
   ]
  },
  {
   "cell_type": "code",
   "execution_count": 20,
   "id": "c275f420-6cc0-4e5b-b11e-8c822188e9e8",
   "metadata": {},
   "outputs": [],
   "source": [
    "import re\n",
    "\n",
    "imdb['review'] = imdb['review'].apply(lambda x: re.sub(r'<.*?>', '', x))\n"
   ]
  },
  {
   "cell_type": "code",
   "execution_count": 22,
   "id": "6873a5db-d0c8-437e-908e-a311a10aa3f3",
   "metadata": {},
   "outputs": [],
   "source": [
    "\n",
    "imdb['review'] = imdb['review'].apply(lambda x: re.sub(r'[^a-zA-Z0-9\\s.,!?]', '', x))\n",
    "\n",
    "imdb['review'] = imdb['review'].apply(lambda x: x.lower())\n",
    "\n",
    "imdb['review'] = imdb['review'].apply(lambda x: ' '.join(x.split()))\n"
   ]
  },
  {
   "cell_type": "code",
   "execution_count": 23,
   "id": "4836f91e-89c5-4fcb-b538-b3a43f791927",
   "metadata": {},
   "outputs": [
    {
     "data": {
      "text/html": [
       "<div>\n",
       "<style scoped>\n",
       "    .dataframe tbody tr th:only-of-type {\n",
       "        vertical-align: middle;\n",
       "    }\n",
       "\n",
       "    .dataframe tbody tr th {\n",
       "        vertical-align: top;\n",
       "    }\n",
       "\n",
       "    .dataframe thead th {\n",
       "        text-align: right;\n",
       "    }\n",
       "</style>\n",
       "<table border=\"1\" class=\"dataframe\">\n",
       "  <thead>\n",
       "    <tr style=\"text-align: right;\">\n",
       "      <th></th>\n",
       "      <th>review</th>\n",
       "      <th>sentiment</th>\n",
       "    </tr>\n",
       "  </thead>\n",
       "  <tbody>\n",
       "    <tr>\n",
       "      <th>0</th>\n",
       "      <td>one of the other reviewers has mentioned that ...</td>\n",
       "      <td>positive</td>\n",
       "    </tr>\n",
       "    <tr>\n",
       "      <th>1</th>\n",
       "      <td>a wonderful little production. the filming tec...</td>\n",
       "      <td>positive</td>\n",
       "    </tr>\n",
       "    <tr>\n",
       "      <th>2</th>\n",
       "      <td>i thought this was a wonderful way to spend ti...</td>\n",
       "      <td>positive</td>\n",
       "    </tr>\n",
       "    <tr>\n",
       "      <th>3</th>\n",
       "      <td>basically theres a family where a little boy j...</td>\n",
       "      <td>negative</td>\n",
       "    </tr>\n",
       "    <tr>\n",
       "      <th>4</th>\n",
       "      <td>petter matteis love in the time of money is a ...</td>\n",
       "      <td>positive</td>\n",
       "    </tr>\n",
       "  </tbody>\n",
       "</table>\n",
       "</div>"
      ],
      "text/plain": [
       "                                              review sentiment\n",
       "0  one of the other reviewers has mentioned that ...  positive\n",
       "1  a wonderful little production. the filming tec...  positive\n",
       "2  i thought this was a wonderful way to spend ti...  positive\n",
       "3  basically theres a family where a little boy j...  negative\n",
       "4  petter matteis love in the time of money is a ...  positive"
      ]
     },
     "execution_count": 23,
     "metadata": {},
     "output_type": "execute_result"
    }
   ],
   "source": [
    "imdb.head()"
   ]
  },
  {
   "cell_type": "code",
   "execution_count": 24,
   "id": "d09264ee-b1d5-4f8c-8b9c-1de56468ef67",
   "metadata": {},
   "outputs": [
    {
     "name": "stderr",
     "output_type": "stream",
     "text": [
      "[nltk_data] Downloading package punkt to\n",
      "[nltk_data]     /Users/prtimilsina/nltk_data...\n",
      "[nltk_data]   Unzipping tokenizers/punkt.zip.\n",
      "[nltk_data] Downloading package stopwords to\n",
      "[nltk_data]     /Users/prtimilsina/nltk_data...\n",
      "[nltk_data]   Unzipping corpora/stopwords.zip.\n"
     ]
    },
    {
     "data": {
      "text/plain": [
       "True"
      ]
     },
     "execution_count": 24,
     "metadata": {},
     "output_type": "execute_result"
    }
   ],
   "source": [
    "import nltk\n",
    "from nltk.tokenize import word_tokenize\n",
    "from nltk.stem import PorterStemmer\n",
    "from nltk.corpus import stopwords\n",
    "\n",
    "# Download resources if not already installed\n",
    "nltk.download('punkt')\n",
    "nltk.download('stopwords')\n"
   ]
  },
  {
   "cell_type": "code",
   "execution_count": 26,
   "id": "6aa45b0e-3435-4d04-8672-7d09e78a62e1",
   "metadata": {},
   "outputs": [
    {
     "name": "stderr",
     "output_type": "stream",
     "text": [
      "[nltk_data] Downloading package punkt to\n",
      "[nltk_data]     /Users/prtimilsina/nltk_data...\n",
      "[nltk_data]   Package punkt is already up-to-date!\n"
     ]
    },
    {
     "data": {
      "text/plain": [
       "True"
      ]
     },
     "execution_count": 26,
     "metadata": {},
     "output_type": "execute_result"
    }
   ],
   "source": [
    "nltk.download('punkt')"
   ]
  },
  {
   "cell_type": "code",
   "execution_count": 28,
   "id": "3dfc465f-4184-4a41-aaeb-2ac975f92531",
   "metadata": {},
   "outputs": [],
   "source": [
    "nltk.data.path.append(\"/Users/prtimilsina/nltk_data\")"
   ]
  },
  {
   "cell_type": "code",
   "execution_count": 31,
   "id": "a0fec069-b14a-49bb-8f92-302e319f43ba",
   "metadata": {},
   "outputs": [
    {
     "name": "stderr",
     "output_type": "stream",
     "text": [
      "[nltk_data] Downloading package punkt to\n",
      "[nltk_data]     /Users/prtimilsina/nltk_data...\n",
      "[nltk_data]   Package punkt is already up-to-date!\n"
     ]
    },
    {
     "data": {
      "text/plain": [
       "True"
      ]
     },
     "execution_count": 31,
     "metadata": {},
     "output_type": "execute_result"
    }
   ],
   "source": [
    "nltk.download('punkt', download_dir='/Users/prtimilsina/nltk_data')"
   ]
  },
  {
   "cell_type": "code",
   "execution_count": 34,
   "id": "ce1a8900-3d8d-43da-a4ee-a22c30771c13",
   "metadata": {},
   "outputs": [],
   "source": [
    "imdb.to_csv(\"cleaned_imdb_reviews.csv\", index=False)"
   ]
  },
  {
   "cell_type": "markdown",
   "id": "5684c2b1-5cfa-4f94-8f91-5ea791f5fc00",
   "metadata": {},
   "source": [
    "## Summary Report"
   ]
  },
  {
   "cell_type": "markdown",
   "id": "b938d221-4fdd-4fe6-995d-7a909cfaa89e",
   "metadata": {},
   "source": [
    "IMDb Movie Reviews Data Analysis\n",
    "Objective: The project aims to acquire, clean, and prepare IMDb movie review data for further analysis, such as understanding sentiment distribution and exploring review text characteristics.\n",
    "\n",
    "## 1. Data Acquisition\n",
    "Dataset Source: The dataset was sourced from Kaggle’s IMDb dataset of 50,000 movie reviews, which includes both positive and negative sentiments.\n",
    "Format: The data was initially downloaded as a ZIP file containing a CSV file (IMDB Dataset.csv).\n",
    "Loading Data: The CSV file was loaded into a pandas DataFrame to allow for structured data manipulation.\n",
    "## 2. Data Cleaning\n",
    "Data cleaning was essential to ensure the quality and usability of the dataset for further analysis. The following steps were taken:\n",
    "\n",
    "### Removing Irrelevant Data: \n",
    "Any unnecessary columns or extraneous data were removed to retain only essential columns: review and sentiment.\n",
    "\n",
    "### Handling Empty Reviews:\n",
    "Empty reviews, including those containing only whitespace, were identified and removed to avoid issues during analysis.\n",
    "### Removing Duplicates:\n",
    "Duplicate reviews were removed to prevent repetitive data from skewing analysis results.\n",
    "Removing HTML Tags and Special Characters: HTML tags (such as <br />) and non-alphanumeric characters were stripped from the text to ensure cleaner and more readable reviews.\n",
    "## 3. Data Transformation\n",
    "Several transformations were applied to enhance the dataset for analysis:\n",
    "\n",
    "### Text Preprocessing (Tokenization and Stemming): \n",
    "Tokenization and stemming were initially attempted but encountered technical issues. These steps were deferred for future improvement.\n",
    "### Adding Review Length: \n",
    "A new column, review_length, was added to capture the length of each review. This allowed for additional exploration of text characteristics, such as review length distribution.\n",
    "## 4. Storing Cleaned Data\n",
    "Saving Cleaned Data: The cleaned dataset was saved as cleaned_imdb_reviews.csv to preserve the processed data for further analysis and to avoid re-running cleaning steps.\n",
    "Summary\n",
    "The steps in this project allowed for effective data acquisition, cleaning, and transformation of IMDb movie reviews. This prepared dataset can now be used for further analysis, including sentiment distribution and deeper text analysis. Future work may involve implementing tokenization and stemming, as well as building machine learning models to classify sentiment or explore review topics."
   ]
  },
  {
   "cell_type": "code",
   "execution_count": null,
   "id": "c96df8c1-e379-4667-8a0d-50214f0fe755",
   "metadata": {},
   "outputs": [],
   "source": []
  }
 ],
 "metadata": {
  "kernelspec": {
   "display_name": "Python 3 (ipykernel)",
   "language": "python",
   "name": "python3"
  },
  "language_info": {
   "codemirror_mode": {
    "name": "ipython",
    "version": 3
   },
   "file_extension": ".py",
   "mimetype": "text/x-python",
   "name": "python",
   "nbconvert_exporter": "python",
   "pygments_lexer": "ipython3",
   "version": "3.12.7"
  }
 },
 "nbformat": 4,
 "nbformat_minor": 5
}
